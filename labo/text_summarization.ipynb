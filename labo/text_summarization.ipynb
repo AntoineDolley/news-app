{
 "cells": [
  {
   "cell_type": "markdown",
   "metadata": {},
   "source": [
    "# Text preprocessing"
   ]
  },
  {
   "cell_type": "code",
   "execution_count": 1,
   "metadata": {},
   "outputs": [],
   "source": [
    "def query_news():\n",
    "    import requests\n",
    "    url = 'https://newsapi.org/v2/top-headlines'\n",
    "    params = {\n",
    "        'country': 'us',\n",
    "        'apiKey': 'c05f140b4860486cba5633ca73c2f014',\n",
    "    }\n",
    "\n",
    "    response = requests.get(url, params=params)\n",
    "    data = response.json()\n",
    "    return data"
   ]
  },
  {
   "cell_type": "code",
   "execution_count": 2,
   "metadata": {},
   "outputs": [
    {
     "name": "stdout",
     "output_type": "stream",
     "text": [
      "\n",
      " Contenu de l'article : Ho, ho, ho! It's a holiday tradition: Anonymous media executives make their 2025 industry predictions.\n",
      "In honor of the 12 days of Christmas, we give you 12 predictions from some of the most powerful… [+6570 chars]\n",
      "\n",
      " Contenu de l'article : New York (CNN) Honda and Nissan have formally agreed to hold talks over the next six months on a possible merger, a deal that would create the worlds third-largest automaker and give them more resour… [+3052 chars]\n",
      "\n",
      " Contenu de l'article : The new FT Digital Edition: todays FT, cover to cover on any device. This subscription does not include access to ft.com or the FT App.\n",
      "<ul><li></li>FT Digital Edition<li></li>Global news &amp; anal… [+86 chars]\n",
      "\n",
      " Contenu de l'article : Hollywood stars have got Blake Lively‘s back.\n",
      "Gwyneth Paltrow and Amy Schumer were among those standing with the actress after she filed a bombshell lawsuit against her It Ends With Usco-star and di… [+2297 chars]\n",
      "\n",
      " Contenu de l'article : None\n"
     ]
    }
   ],
   "source": [
    "data = query_news()\n",
    "\n",
    "for item in data.get('articles', [])[:5]:\n",
    "    print(f\"\\n Contenu de l'article : {item.get('content')}\")"
   ]
  },
  {
   "cell_type": "code",
   "execution_count": 6,
   "metadata": {},
   "outputs": [
    {
     "name": "stdout",
     "output_type": "stream",
     "text": [
      "\n",
      " Contenu de l'article : Ho, ho, ho! It's a holiday tradition: Anonymous media executives make their 2025 industry predictions.\n",
      "In honor of the 12 days of Christmas, we give you 12 predictions from some of the most powerful… [+6570 chars]\n",
      "\n",
      " Contenu de l'article : New York (CNN) Honda and Nissan have formally agreed to hold talks over the next six months on a possible merger, a deal that would create the worlds third-largest automaker and give them more resour… [+3052 chars]\n",
      "\n",
      " Contenu de l'article : The new FT Digital Edition: todays FT, cover to cover on any device. This subscription does not include access to ft.com or the FT App.\n",
      "FT Digital EditionGlobal news & anal… [+86 chars]\n",
      "\n",
      " Contenu de l'article : Hollywood stars have got Blake Lively‘s back.\n",
      "Gwyneth Paltrow and Amy Schumer were among those standing with the actress after she filed a bombshell lawsuit against her It Ends With Usco-star and di… [+2297 chars]\n"
     ]
    },
    {
     "ename": "TypeError",
     "evalue": "object of type 'NoneType' has no len()",
     "output_type": "error",
     "traceback": [
      "\u001b[1;31m---------------------------------------------------------------------------\u001b[0m",
      "\u001b[1;31mTypeError\u001b[0m                                 Traceback (most recent call last)",
      "Cell \u001b[1;32mIn[6], line 5\u001b[0m\n\u001b[0;32m      2\u001b[0m \u001b[38;5;28;01mfrom\u001b[39;00m \u001b[38;5;21;01mbs4\u001b[39;00m \u001b[38;5;28;01mimport\u001b[39;00m BeautifulSoup\n\u001b[0;32m      4\u001b[0m \u001b[38;5;28;01mfor\u001b[39;00m item \u001b[38;5;129;01min\u001b[39;00m data\u001b[38;5;241m.\u001b[39mget(\u001b[38;5;124m'\u001b[39m\u001b[38;5;124marticles\u001b[39m\u001b[38;5;124m'\u001b[39m, []):\n\u001b[1;32m----> 5\u001b[0m     \u001b[38;5;28mprint\u001b[39m(\u001b[38;5;124mf\u001b[39m\u001b[38;5;124m\"\u001b[39m\u001b[38;5;130;01m\\n\u001b[39;00m\u001b[38;5;124m Contenu de l\u001b[39m\u001b[38;5;124m'\u001b[39m\u001b[38;5;124marticle : \u001b[39m\u001b[38;5;132;01m{\u001b[39;00m\u001b[43mBeautifulSoup\u001b[49m\u001b[43m(\u001b[49m\u001b[43mitem\u001b[49m\u001b[38;5;241;43m.\u001b[39;49m\u001b[43mget\u001b[49m\u001b[43m(\u001b[49m\u001b[38;5;124;43m'\u001b[39;49m\u001b[38;5;124;43mcontent\u001b[39;49m\u001b[38;5;124;43m'\u001b[39;49m\u001b[43m)\u001b[49m\u001b[43m,\u001b[49m\u001b[38;5;250;43m \u001b[39;49m\u001b[38;5;124;43m\"\u001b[39;49m\u001b[38;5;124;43mhtml.parser\u001b[39;49m\u001b[38;5;124;43m\"\u001b[39;49m\u001b[43m)\u001b[49m\u001b[38;5;241m.\u001b[39mget_text()\u001b[38;5;132;01m}\u001b[39;00m\u001b[38;5;124m\"\u001b[39m)\n",
      "File \u001b[1;32mc:\\Users\\antoine\\AppData\\Local\\Programs\\Python\\Python313\\Lib\\site-packages\\bs4\\__init__.py:315\u001b[0m, in \u001b[0;36mBeautifulSoup.__init__\u001b[1;34m(self, markup, features, builder, parse_only, from_encoding, exclude_encodings, element_classes, **kwargs)\u001b[0m\n\u001b[0;32m    313\u001b[0m \u001b[38;5;28;01mif\u001b[39;00m \u001b[38;5;28mhasattr\u001b[39m(markup, \u001b[38;5;124m'\u001b[39m\u001b[38;5;124mread\u001b[39m\u001b[38;5;124m'\u001b[39m):        \u001b[38;5;66;03m# It's a file-type object.\u001b[39;00m\n\u001b[0;32m    314\u001b[0m     markup \u001b[38;5;241m=\u001b[39m markup\u001b[38;5;241m.\u001b[39mread()\n\u001b[1;32m--> 315\u001b[0m \u001b[38;5;28;01melif\u001b[39;00m \u001b[38;5;28;43mlen\u001b[39;49m\u001b[43m(\u001b[49m\u001b[43mmarkup\u001b[49m\u001b[43m)\u001b[49m \u001b[38;5;241m<\u001b[39m\u001b[38;5;241m=\u001b[39m \u001b[38;5;241m256\u001b[39m \u001b[38;5;129;01mand\u001b[39;00m (\n\u001b[0;32m    316\u001b[0m         (\u001b[38;5;28misinstance\u001b[39m(markup, \u001b[38;5;28mbytes\u001b[39m) \u001b[38;5;129;01mand\u001b[39;00m \u001b[38;5;129;01mnot\u001b[39;00m \u001b[38;5;124mb\u001b[39m\u001b[38;5;124m'\u001b[39m\u001b[38;5;124m<\u001b[39m\u001b[38;5;124m'\u001b[39m \u001b[38;5;129;01min\u001b[39;00m markup)\n\u001b[0;32m    317\u001b[0m         \u001b[38;5;129;01mor\u001b[39;00m (\u001b[38;5;28misinstance\u001b[39m(markup, \u001b[38;5;28mstr\u001b[39m) \u001b[38;5;129;01mand\u001b[39;00m \u001b[38;5;129;01mnot\u001b[39;00m \u001b[38;5;124m'\u001b[39m\u001b[38;5;124m<\u001b[39m\u001b[38;5;124m'\u001b[39m \u001b[38;5;129;01min\u001b[39;00m markup)\n\u001b[0;32m    318\u001b[0m ):\n\u001b[0;32m    319\u001b[0m     \u001b[38;5;66;03m# Issue warnings for a couple beginner problems\u001b[39;00m\n\u001b[0;32m    320\u001b[0m     \u001b[38;5;66;03m# involving passing non-markup to Beautiful Soup.\u001b[39;00m\n\u001b[0;32m    321\u001b[0m     \u001b[38;5;66;03m# Beautiful Soup will still parse the input as markup,\u001b[39;00m\n\u001b[0;32m    322\u001b[0m     \u001b[38;5;66;03m# since that is sometimes the intended behavior.\u001b[39;00m\n\u001b[0;32m    323\u001b[0m     \u001b[38;5;28;01mif\u001b[39;00m \u001b[38;5;129;01mnot\u001b[39;00m \u001b[38;5;28mself\u001b[39m\u001b[38;5;241m.\u001b[39m_markup_is_url(markup):\n\u001b[0;32m    324\u001b[0m         \u001b[38;5;28mself\u001b[39m\u001b[38;5;241m.\u001b[39m_markup_resembles_filename(markup)                \n",
      "\u001b[1;31mTypeError\u001b[0m: object of type 'NoneType' has no len()"
     ]
    }
   ],
   "source": [
    "import re\n",
    "from bs4 import BeautifulSoup\n",
    "\n",
    "for item in data.get('articles', []):\n",
    "    print(f\"\\n Contenu de l'article : {BeautifulSoup(item.get('content'), \"html.parser\").get_text()}\")"
   ]
  },
  {
   "cell_type": "code",
   "execution_count": null,
   "metadata": {},
   "outputs": [
    {
     "name": "stdout",
     "output_type": "stream",
     "text": [
      "[{'summary_text': \" Laine 100% mérinos des pulls pour femme UNIQLO est naturellement chaude et douce, avec un toucher agréable sur la peau . The pull en laine mérino d'hiver is an allié indispensable pour affronter la saison froide tout en restant à l’aise dans vos vêtements .\"}]\n"
     ]
    }
   ],
   "source": [
    "\n",
    "summarizer = pipeline(\"summarization\")\n",
    "\n",
    "item = data.get('articles', [])[2]\n",
    "full_text = item.get('content')\n",
    "summary = summarizer(full_text, max_length=200, min_length=30, do_sample=False)[0]['summary_text']\n",
    "print(summary)"
   ]
  },
  {
   "cell_type": "code",
   "execution_count": null,
   "metadata": {},
   "outputs": [
    {
     "name": "stdout",
     "output_type": "stream",
     "text": [
      "Drake has launched a second bombshell legal action against Universal Music Group over Kendrick Lamar’s “Not Like Us,” accusing the music giant of defamation and claiming it could have halted the rele… [+3598 chars]\n"
     ]
    }
   ],
   "source": [
    "import requests\n",
    "url = 'https://newsapi.org/v2/top-headlines'\n",
    "params = {\n",
    "    'country': 'us',\n",
    "    'apiKey': 'c05f140b4860486cba5633ca73c2f014',\n",
    "}\n",
    "\n",
    "response = requests.get(url, params=params)\n",
    "data = response.json()\n",
    "item = data.get('articles', [])[0]\n",
    "print(item.get('content'))"
   ]
  },
  {
   "cell_type": "markdown",
   "metadata": {},
   "source": [
    "## Avec LangChain"
   ]
  },
  {
   "cell_type": "code",
   "execution_count": null,
   "metadata": {},
   "outputs": [],
   "source": [
    "from langchain import OpenAI\n",
    "from langchain import PromptTemplate\n",
    "import os\n",
    "\n",
    "openai_api_key = os.getenv('OPENAI_API_KEY', 'YourAPIKey')\n",
    "\n",
    "llm = OpenAI(temperature=0.9, openai_api_key=openai_api_key)\n",
    "\n",
    "template = \"\"\"\n",
    "Please write a one sentence summary of the following text:\n",
    "\n",
    "{essay}\n",
    "\"\"\"\n",
    "\n",
    "prompt = PromptTemplate(\n",
    "    input_variables=[\"essay\"],\n",
    "    template=template\n",
    ")"
   ]
  },
  {
   "cell_type": "code",
   "execution_count": null,
   "metadata": {},
   "outputs": [],
   "source": [
    "summary_prompt = prompt.format(essay=essay)\n",
    "\n",
    "num_tokens = llm.get_num_tokens(summary_prompt)\n",
    "print (f\"This prompt + essay has {num_tokens} tokens\")\n",
    "\n",
    "summary = llm(summary_prompt)\n",
    "    \n",
    "print (f\"Summary: {summary.strip()}\")\n",
    "print (\"\\n\")"
   ]
  },
  {
   "cell_type": "markdown",
   "metadata": {},
   "source": [
    "## Avec langchain et Parallelisation"
   ]
  },
  {
   "cell_type": "code",
   "execution_count": null,
   "metadata": {},
   "outputs": [],
   "source": [
    "from langchain import OpenAI\n",
    "from langchain import PromptTemplate\n",
    "import os\n",
    "\n",
    "openai_api_key = os.getenv('OPENAI_API_KEY', 'YourAPIKey')\n",
    "\n",
    "llm = OpenAI(temperature=0.9, openai_api_key=openai_api_key)\n",
    "\n",
    "template = \"\"\"\n",
    "Please write a one sentence summary of the following text:\n",
    "\n",
    "{essay}\n",
    "\"\"\"\n",
    "\n",
    "prompt = PromptTemplate(\n",
    "    input_variables=[\"essay\"],\n",
    "    template=template\n",
    ")\n",
    "\n",
    "summary_prompt = prompt.format(essay=essay)\n",
    "\n",
    "num_tokens = llm.get_num_tokens(summary_prompt)\n",
    "print (f\"This prompt + essay has {num_tokens} tokens\")\n",
    "\n",
    "summary = llm(summary_prompt)\n",
    "    \n",
    "print (f\"Summary: {summary.strip()}\")\n",
    "print (\"\\n\")"
   ]
  },
  {
   "cell_type": "markdown",
   "metadata": {},
   "source": [
    "Streamlit\n",
    "Solara"
   ]
  }
 ],
 "metadata": {
  "kernelspec": {
   "display_name": "Python 3",
   "language": "python",
   "name": "python3"
  },
  "language_info": {
   "codemirror_mode": {
    "name": "ipython",
    "version": 3
   },
   "file_extension": ".py",
   "mimetype": "text/x-python",
   "name": "python",
   "nbconvert_exporter": "python",
   "pygments_lexer": "ipython3",
   "version": "3.13.0"
  }
 },
 "nbformat": 4,
 "nbformat_minor": 2
}
