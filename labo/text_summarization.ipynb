{
 "cells": [
  {
   "cell_type": "markdown",
   "metadata": {},
   "source": [
    "Streamlit\n",
    "Solara\n"
   ]
  },
  {
   "cell_type": "code",
   "execution_count": null,
   "metadata": {},
   "outputs": [
    {
     "name": "stdout",
     "output_type": "stream",
     "text": [
      "[{'summary_text': \" Laine 100% mérinos des pulls pour femme UNIQLO est naturellement chaude et douce, avec un toucher agréable sur la peau . The pull en laine mérino d'hiver is an allié indispensable pour affronter la saison froide tout en restant à l’aise dans vos vêtements .\"}]\n"
     ]
    }
   ],
   "source": [
    "from transformers import pipeline\n",
    "\n",
    "summarizer = pipeline(\"summarization\")\n",
    "print(summarizer(\"Trois fois plus fine que la laine traditionnelle, la laine 100 % mérinos des pulls pour femme UNIQLO est naturellement chaude et douce, avec un toucher agréable sur la peau. Ainsi, les 3 modèles présentés aujourd’hui peuvent être portés sous un manteau sans que vous vous sentiez à l’étroit. Finies également les démangeaisons, puisque la laine mérinos convient à tous les types de peaux, y compris les plus sensibles. À 34,90 euros seulement, pourquoi hésiter ?UNIQLO affiche un prix tout doux sur ces 3 pulls pour femme en laine mérinos Vous êtes plutôt de style classique ? Le pull en laine mérinos à col rond est fait pour vous. Ce modèle disponible en 13 coloris est idéal en de nombreuses occasions, pour porter au travail ou le temps d’un week-end, en mode cocooning à la maison ou sous votre manteau d’hiver.Cliquez ici pour profiter de l’offre UNIQLO sur le pull en laine mérinos à col rondParfait pour mettre en valeur vos formes, le pull en laine mérinos à col V d’UNIQLO deviendra vite votre modèle préféré, tant il est chaud et confortable. 7 coloris sont proposés sur la boutique en ligne de la marque, ainsi que toutes les tailles du XXS au XXL.Cliquez ici pour profiter de l’offre UNIQLO sur le pull en laine mérinos à col VDevenu un classique de nos dressings depuis les années 1970 et la Nouvelle Vague, le pull à col roulé s’invite au catalogue d’hiver UNIQLO, avec un modèle côtelé en laine mérinos disponible en 14 coloris. Un allié indispensable pour affronter la saison froide tout en restant à l’aise dans vos vêtements.Cliquez ici pour profiter de l’offre UNIQLO sur le pull côtelé en laine mérinos à col rouléContenu sponsorisé. Les prix mentionnés sont à titre indicatif et sont susceptibles d'évoluer. En cliquant sur les liens de cet article, vous acceptez le dépôt de cookies. Ouest-France peut percevoir une commission en cas d'achat sur le site partenaire.\"))\n",
    "import requests\n",
    "url = 'https://newsapi.org/v2/top-headlines'\n",
    "params = {\n",
    "    'country': 'us',\n",
    "    'apiKey': 'c05f140b4860486cba5633ca73c2f014',\n",
    "}\n",
    "\n",
    "response = requests.get(url, params=params)\n",
    "data = response.json()\n",
    "summarizer = pipeline(\"summarization\")\n",
    "\n",
    "item = data.get('articles', [])[2]\n",
    "full_text = item.get('content')\n",
    "summary = summarizer(full_text, max_length=200, min_length=30, do_sample=False)[0]['summary_text']\n",
    "print(summary)"
   ]
  },
  {
   "cell_type": "code",
   "execution_count": null,
   "metadata": {},
   "outputs": [
    {
     "name": "stdout",
     "output_type": "stream",
     "text": [
      "Drake has launched a second bombshell legal action against Universal Music Group over Kendrick Lamar’s “Not Like Us,” accusing the music giant of defamation and claiming it could have halted the rele… [+3598 chars]\n"
     ]
    }
   ],
   "source": [
    "import requests\n",
    "url = 'https://newsapi.org/v2/top-headlines'\n",
    "params = {\n",
    "    'country': 'us',\n",
    "    'apiKey': 'c05f140b4860486cba5633ca73c2f014',\n",
    "}\n",
    "\n",
    "response = requests.get(url, params=params)\n",
    "data = response.json()\n",
    "item = data.get('articles', [])[0]\n",
    "print(item.get('content'))"
   ]
  },
  {
   "cell_type": "markdown",
   "metadata": {},
   "source": [
    "## Avec LangChain"
   ]
  },
  {
   "cell_type": "code",
   "execution_count": null,
   "metadata": {},
   "outputs": [],
   "source": [
    "from langchain import OpenAI\n",
    "from langchain import PromptTemplate\n",
    "import os\n",
    "\n",
    "openai_api_key = os.getenv('OPENAI_API_KEY', 'YourAPIKey')\n",
    "\n",
    "llm = OpenAI(temperature=0.9, openai_api_key=openai_api_key)\n",
    "\n",
    "template = \"\"\"\n",
    "Please write a one sentence summary of the following text:\n",
    "\n",
    "{essay}\n",
    "\"\"\"\n",
    "\n",
    "prompt = PromptTemplate(\n",
    "    input_variables=[\"essay\"],\n",
    "    template=template\n",
    ")\n",
    "\n",
    "summary_prompt = prompt.format(essay=essay)\n",
    "\n",
    "num_tokens = llm.get_num_tokens(summary_prompt)\n",
    "print (f\"This prompt + essay has {num_tokens} tokens\")\n",
    "\n",
    "summary = llm(summary_prompt)\n",
    "    \n",
    "print (f\"Summary: {summary.strip()}\")\n",
    "print (\"\\n\")"
   ]
  }
 ],
 "metadata": {
  "kernelspec": {
   "display_name": "Projet_Recherche",
   "language": "python",
   "name": "python3"
  },
  "language_info": {
   "codemirror_mode": {
    "name": "ipython",
    "version": 3
   },
   "file_extension": ".py",
   "mimetype": "text/x-python",
   "name": "python",
   "nbconvert_exporter": "python",
   "pygments_lexer": "ipython3",
   "version": "3.11.9"
  }
 },
 "nbformat": 4,
 "nbformat_minor": 2
}
