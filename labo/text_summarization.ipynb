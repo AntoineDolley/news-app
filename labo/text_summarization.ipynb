{
 "cells": [
  {
   "cell_type": "code",
   "execution_count": 4,
   "metadata": {},
   "outputs": [
    {
     "name": "stdout",
     "output_type": "stream",
     "text": [
      "[{'summary_text': \" Laine 100% mérinos des pulls pour femme UNIQLO est naturellement chaude et douce, avec un toucher agréable sur la peau . The pull en laine mérino d'hiver is an allié indispensable pour affronter la saison froide tout en restant à l’aise dans vos vêtements .\"}]\n"
     ]
    }
   ],
   "source": [
    "from transformers import pipeline\n",
    "\n",
    "summarizer = pipeline(\"summarization\")\n",
    "print(summarizer(\"\tTrois fois plus fine que la laine traditionnelle, la laine 100 % mérinos des pulls pour femme UNIQLO est naturellement chaude et douce, avec un toucher agréable sur la peau. Ainsi, les 3 modèles présentés aujourd’hui peuvent être portés sous un manteau sans que vous vous sentiez à l’étroit. Finies également les démangeaisons, puisque la laine mérinos convient à tous les types de peaux, y compris les plus sensibles. À 34,90 euros seulement, pourquoi hésiter ?UNIQLO affiche un prix tout doux sur ces 3 pulls pour femme en laine mérinos Vous êtes plutôt de style classique ? Le pull en laine mérinos à col rond est fait pour vous. Ce modèle disponible en 13 coloris est idéal en de nombreuses occasions, pour porter au travail ou le temps d’un week-end, en mode cocooning à la maison ou sous votre manteau d’hiver.Cliquez ici pour profiter de l’offre UNIQLO sur le pull en laine mérinos à col rondParfait pour mettre en valeur vos formes, le pull en laine mérinos à col V d’UNIQLO deviendra vite votre modèle préféré, tant il est chaud et confortable. 7 coloris sont proposés sur la boutique en ligne de la marque, ainsi que toutes les tailles du XXS au XXL.Cliquez ici pour profiter de l’offre UNIQLO sur le pull en laine mérinos à col VDevenu un classique de nos dressings depuis les années 1970 et la Nouvelle Vague, le pull à col roulé s’invite au catalogue d’hiver UNIQLO, avec un modèle côtelé en laine mérinos disponible en 14 coloris. Un allié indispensable pour affronter la saison froide tout en restant à l’aise dans vos vêtements.Cliquez ici pour profiter de l’offre UNIQLO sur le pull côtelé en laine mérinos à col rouléContenu sponsorisé. Les prix mentionnés sont à titre indicatif et sont susceptibles d'évoluer. En cliquant sur les liens de cet article, vous acceptez le dépôt de cookies. Ouest-France peut percevoir une commission en cas d'achat sur le site partenaire.\"))"
   ]
  },
  {
   "cell_type": "code",
   "execution_count": null,
   "metadata": {},
   "outputs": [
    {
     "name": "stderr",
     "output_type": "stream",
     "text": [
      "Your max_length is set to 200, but you input_length is only 50. You might consider decreasing max_length manually, e.g. summarizer('...', max_length=50)\n"
     ]
    },
    {
     "name": "stdout",
     "output_type": "stream",
     "text": [
      " John Bolton slammed Sebastian Gorka as a “con man’s” on Friday, after President-elect picked Gorka to lead counterterrorism efforts in his second term .\n"
     ]
    }
   ],
   "source": [
    "import requests\n",
    "url = 'https://newsapi.org/v2/top-headlines'\n",
    "params = {\n",
    "    'country': 'us',\n",
    "    'apiKey': 'c05f140b4860486cba5633ca73c2f014',\n",
    "}\n",
    "\n",
    "response = requests.get(url, params=params)\n",
    "data = response.json()\n",
    "summarizer = pipeline(\"summarization\")"
   ]
  },
  {
   "cell_type": "code",
   "execution_count": 11,
   "metadata": {},
   "outputs": [
    {
     "name": "stderr",
     "output_type": "stream",
     "text": [
      "Your max_length is set to 200, but you input_length is only 51. You might consider decreasing max_length manually, e.g. summarizer('...', max_length=50)\n"
     ]
    },
    {
     "name": "stdout",
     "output_type": "stream",
     "text": [
      " Gregory Maguire tells the BBC about the inspiration behind Wicked . Wicked was a 1995 novel and a musical before Wicked was released in 1995 .\n"
     ]
    }
   ],
   "source": [
    "item = data.get('articles', [])[2]\n",
    "full_text = item.get('content')\n",
    "summary = summarizer(full_text, max_length=200, min_length=30, do_sample=False)[0]['summary_text']\n",
    "print(summary)"
   ]
  }
 ],
 "metadata": {
  "kernelspec": {
   "display_name": "Python 3",
   "language": "python",
   "name": "python3"
  },
  "language_info": {
   "codemirror_mode": {
    "name": "ipython",
    "version": 3
   },
   "file_extension": ".py",
   "mimetype": "text/x-python",
   "name": "python",
   "nbconvert_exporter": "python",
   "pygments_lexer": "ipython3",
   "version": "3.6.10"
  }
 },
 "nbformat": 4,
 "nbformat_minor": 2
}
