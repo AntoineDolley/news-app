{
 "cells": [
  {
   "cell_type": "code",
   "execution_count": 1,
   "metadata": {},
   "outputs": [],
   "source": [
    "import openai\n",
    "import requests\n",
    "import psycopg2\n",
    "from psycopg2.extras import execute_values"
   ]
  },
  {
   "cell_type": "code",
   "execution_count": 2,
   "metadata": {},
   "outputs": [],
   "source": [
    "# Configure OpenAI API\n",
    "openai.api_key = \"\"\n",
    "# PostgreSQL connection parameters\n",
    "DATABASE_CONFIG = {\n",
    "    \"dbname\": \"news_db\",\n",
    "    \"user\": \"news_user\",\n",
    "    \"password\": \"news_password\",\n",
    "    \"host\": \"localhost\",  # Or the IP/hostname of your database\n",
    "    \"port\": 5432\n",
    "}"
   ]
  },
  {
   "cell_type": "code",
   "execution_count": 3,
   "metadata": {},
   "outputs": [],
   "source": [
    "# Define a function to query news articles\n",
    "def query_news():\n",
    "    url = 'https://newsapi.org/v2/top-headlines'\n",
    "    params = {\n",
    "        'country': 'us',\n",
    "        'apiKey': 'c05f140b4860486cba5633ca73c2f014',\n",
    "    }\n",
    "    response = requests.get(url, params=params)\n",
    "    if response.status_code == 200:\n",
    "        data = response.json()\n",
    "        return data.get('articles', [])\n",
    "    else:\n",
    "        print(f\"Error fetching news: {response.status_code}\")\n",
    "        return []\n",
    "\n",
    "# Define a function to generate embeddings\n",
    "def generate_embedding(text):\n",
    "    import time\n",
    "    start = time.time()\n",
    "    response = openai.Embedding.create(\n",
    "        input=text,\n",
    "        model=\"text-embedding-ada-002\"\n",
    "    )\n",
    "    elapsed = time.time() - start\n",
    "    print(elapsed)\n",
    "    return response['data'][0]['embedding']\n",
    "\n",
    "# Define a function to insert articles into the database\n",
    "def store_articles_in_db(articles):\n",
    "    connection = psycopg2.connect(**DATABASE_CONFIG)\n",
    "    cursor = connection.cursor()\n",
    "\n",
    "    # Ensure the table exists\n",
    "    cursor.execute(\"\"\"\n",
    "        CREATE TABLE IF NOT EXISTS articles (\n",
    "            id SERIAL PRIMARY KEY,\n",
    "            content TEXT,\n",
    "            embedding VECTOR(1536)\n",
    "        );\n",
    "    \"\"\")\n",
    "\n",
    "    # Prepare data for insertion\n",
    "    values = []\n",
    "    for article in articles:\n",
    "        content = article.get('content')\n",
    "        if content:\n",
    "            embedding = generate_embedding(content)\n",
    "            values.append((content, embedding))\n",
    "\n",
    "    # Insert data into the table\n",
    "    if values:\n",
    "        insert_query = \"INSERT INTO articles (content, embedding) VALUES %s\"\n",
    "        execute_values(cursor, insert_query, values, template=None, page_size=100)\n",
    "\n",
    "    connection.commit()\n",
    "    cursor.close()\n",
    "    connection.close()"
   ]
  },
  {
   "cell_type": "code",
   "execution_count": 4,
   "metadata": {},
   "outputs": [
    {
     "name": "stdout",
     "output_type": "stream",
     "text": [
      "0.5552151203155518\n",
      "0.6219415664672852\n",
      "0.4624636173248291\n",
      "0.6938731670379639\n",
      "0.5000715255737305\n",
      "0.39806604385375977\n",
      "0.3244030475616455\n",
      "0.31168699264526367\n",
      "0.1899263858795166\n",
      "0.5937438011169434\n",
      "0.6490416526794434\n",
      "0.22485065460205078\n",
      "0.4251258373260498\n",
      "0.20440101623535156\n",
      "0.4131011962890625\n",
      "0.4811592102050781\n",
      "0.8073930740356445\n",
      "Articles and embeddings successfully stored in the database.\n"
     ]
    }
   ],
   "source": [
    "# Main execution\n",
    "if __name__ == \"__main__\":\n",
    "    # Fetch articles\n",
    "    articles = query_news()\n",
    "    \n",
    "    # Store articles in the database\n",
    "    store_articles_in_db(articles)\n",
    "\n",
    "    print(\"Articles and embeddings successfully stored in the database.\")"
   ]
  }
 ],
 "metadata": {
  "kernelspec": {
   "display_name": "Python 3",
   "language": "python",
   "name": "python3"
  },
  "language_info": {
   "codemirror_mode": {
    "name": "ipython",
    "version": 3
   },
   "file_extension": ".py",
   "mimetype": "text/x-python",
   "name": "python",
   "nbconvert_exporter": "python",
   "pygments_lexer": "ipython3",
   "version": "3.11.9"
  }
 },
 "nbformat": 4,
 "nbformat_minor": 2
}
